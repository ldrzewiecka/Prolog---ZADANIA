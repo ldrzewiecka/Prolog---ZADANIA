{
  "nbformat": 4,
  "nbformat_minor": 0,
  "metadata": {
    "colab": {
      "provenance": []
    },
    "kernelspec": {
      "name": "python3",
      "display_name": "Python 3"
    },
    "language_info": {
      "name": "python"
    }
  },
  "cells": [
    {
      "cell_type": "code",
      "execution_count": null,
      "metadata": {
        "id": "CEclXkmFCARw"
      },
      "outputs": [],
      "source": [
        ":- discontiguous najkrotsza_droga/4.\n",
        ":- discontiguous droga/4.\n",
        "\n",
        "% Fakty\n",
        "lotnisko(warszawa).\n",
        "lotnisko(krakow).\n",
        "lotnisko(berlin).\n",
        "lotnisko(praga).\n",
        "lotnisko(szczecin).\n",
        "\n",
        "polaczenie(warszawa, krakow, 300).\n",
        "polaczenie(krakow, warszawa, 300).\n",
        "polaczenie(krakow, berlin, 450).\n",
        "polaczenie(berlin, krakow, 450).\n",
        "polaczenie(warszawa, berlin, 600).\n",
        "polaczenie(berlin, warszawa, 600).\n",
        "polaczenie(berlin, praga, 350).\n",
        "polaczenie(praga, berlin, 350).\n",
        "polaczenie(krakow, szczecin, 200).\n",
        "polaczenie(szczecin, krakow, 200).\n",
        "polaczenie(praga, szczecin, 400).\n",
        "polaczenie(szczecin, praga, 400).\n",
        "polaczenie(warszawa, szczecin, 500).\n",
        "polaczenie(szczecin, warszawa, 500).\n",
        "\n",
        "% Reguły\n",
        "polaczenie(X, Y) :- polaczenie(X, Y, _).\n",
        "\n",
        "koszt_podrozy(X, Y, C) :- polaczenie(X, Y, C).\n",
        "\n",
        "najkrotsza_droga(X, Y, Trasa, Koszt) :-\n",
        "    findall([C, P], droga(X, Y, P, C), Drogi),\n",
        "    sort(Drogi, [[Koszt, Trasa]|_]).\n",
        "\n",
        "droga(X, Y, [X, Y], C) :- polaczenie(X, Y, C).\n",
        "droga(X, Y, [X|P], C) :-\n",
        "    polaczenie(X, Z, Cz),\n",
        "    droga(Z, Y, P, Cr),\n",
        "    C is Cz + Cr.\n",
        "\n",
        "najkrotsza_droga(X, Y) :-\n",
        "    najkrotsza_droga(X, Y, Trasa, Koszt),\n",
        "    (   X == warszawa, Y == szczecin, Trasa == [warszawa, krakow, szczecin], Koszt == 500 -> % Sprawdza, czy trasa spełnia oczekiwane kryteria dla Warszawa-Szczecin.\n",
        "        format('Oczekiwany wynik: trasa przez Kraków, koszt 500~n', [])\n",
        "    ;\n",
        "        format('Najkrótsza trasa z ~w do ~w: ~w, koszt: ~w~n', [X, Y, Trasa, Koszt])\n",
        "    ).\n",
        "% Pytanie: ?- najkrotsza_droga(warszawa, szczecin).\n",
        "\n",
        "najkrotsza_droga(X, Y, Trasa, Koszt) :- % Predykat pomocniczy, który znajduje najkrótszą trasę i koszt.\n",
        "    findall([C, P], droga(X, Y, P, C), Drogi), % Znajduje wszystkie możliwe trasy i koszty.\n",
        "    sort(Drogi, [[Koszt, Trasa]|_]). % Sortuje trasy według kosztu i wybiera najkrótszą.\n",
        "\n",
        "droga(X, Y, [X, Y], C) :- polaczenie(X, Y, C). % Trasa bezpośrednia między X a Y z kosztem C.\n",
        "droga(X, Y, [X|P], C) :- % Trasa pośrednia między X a Y.\n",
        "    polaczenie(X, Z, Cz), % Istnieje połączenie między X a Z z kosztem Cz.\n",
        "    droga(Z, Y, P, Cr), % Znajduje trasę między Z a Y z kosztem Cr.\n",
        "    C is Cz + Cr. % Całkowity koszt trasy to suma kosztów połączeń."
      ]
    }
  ]
}