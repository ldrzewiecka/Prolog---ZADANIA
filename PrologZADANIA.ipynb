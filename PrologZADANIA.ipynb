{
  "nbformat": 4,
  "nbformat_minor": 0,
  "metadata": {
    "colab": {
      "provenance": [],
      "history_visible": true
    },
    "kernelspec": {
      "name": "python3",
      "display_name": "Python 3"
    },
    "language_info": {
      "name": "python"
    }
  },
  "cells": [
    {
      "cell_type": "markdown",
      "source": [
        "**Zadanie 1:** Stwórz bazę faktów dla drzewa genealogicznego, która obejmuje relacje rodzic-dziecko, małżeństwo oraz płeć. Następnie zdefiniuj reguły przodek(X, Y), brat(X, Y), siostra(X, Y), kuzyn(X, Y)."
      ],
      "metadata": {
        "id": "cM2d069wsyTF"
      }
    },
    {
      "cell_type": "code",
      "execution_count": null,
      "metadata": {
        "id": "9fYNQn5JZmx5",
        "collapsed": true
      },
      "outputs": [],
      "source": [
        "% ZADANIE 1\n",
        "% Fakty są rozproszone w pliku, ale dzięki dyrektywie :- discontiguous kompilator nie zgłasza błędu\n",
        ":- discontiguous ojciec/2.\n",
        ":- discontiguous matka/2.\n",
        ":- discontiguous malzenstwo/2.\n",
        ":- discontiguous mezczyzna/1.\n",
        ":- discontiguous kobieta/1.\n",
        "\n",
        "% Fakty\n",
        "ojciec(zygmunt, blanka).\n",
        "ojciec(zygmunt, borys).\n",
        "matka(jagoda, blanka).\n",
        "matka(jagoda, borys).\n",
        "malzenstwo(zygmunt, jagoda).\n",
        "mezczyzna(zygmunt).\n",
        "mezczyzna(borys).\n",
        "kobieta(jagoda).\n",
        "kobieta(blanka). % rodzina 1\n",
        "\n",
        "ojciec(tadeusz, tymon).\n",
        "matka(helena, tymon).\n",
        "malzenstwo(tadeusz, helena).\n",
        "mezczyzna(tadeusz).\n",
        "mezczyzna(tymon).\n",
        "kobieta(helena). % rodzina 2\n",
        "\n",
        "ojciec(zbigniew, tadeusz).\n",
        "ojciec(zbigniew, jagoda).\n",
        "matka(janina, tadeusz).\n",
        "matka(janina, jagoda).\n",
        "malzenstwo(zbigniew, janina).\n",
        "mezczyzna(zbigniew).\n",
        "kobieta(janina). % dziadkowie\n",
        "\n",
        "% Reguły\n",
        "rodzic(X, Y) :- ojciec(X, Y).\n",
        "rodzic(X, Y) :- matka(X, Y).\n",
        "\n",
        "malzenstwo(X, Y) :-\n",
        "    malzenstwo(Y, X).\n",
        "\n",
        "brat(X, Y) :-\n",
        "  rodzic(Z, X),\n",
        "  rodzic(Z, Y),\n",
        "  X \\= Y,\n",
        "  mezczyzna(X).\n",
        "\n",
        "siostra(X, Y) :-\n",
        "  rodzic(Z, X),\n",
        "  rodzic(Z, Y),\n",
        "  X \\= Y,\n",
        "  kobieta(X).\n",
        "\n",
        "przodek(X, Y) :- rodzic(X, Y).\n",
        "przodek(X, Y) :-\n",
        "  rodzic(X, Z),\n",
        "  rodzic(Z, Y).\n",
        "\n",
        "kuzyn(X, Y) :-\n",
        "    rodzic(P1, X),\n",
        "    rodzic(P2, Y),\n",
        "    rodzenstwo(P1, P2),\n",
        "    X \\= Y.\n",
        "\n",
        "rodzenstwo(X, Y) :-\n",
        "    rodzic(Z, X),\n",
        "    rodzic(Z, Y),\n",
        "    X \\= Y.\n"
      ]
    },
    {
      "cell_type": "markdown",
      "source": [
        "**Przykładowe wyniki:**\n",
        "\n",
        "?- przodek(zbigniew, blanka). % Oczekiwane: true\n",
        "\n",
        "?- brat(borys, blanka). % Oczekiwane: true\n",
        "\n",
        "?- kuzyn(blanka, tymon). % Oczekiwane: true\n",
        "\n",
        "\n"
      ],
      "metadata": {
        "id": "DIV_OEfftOfc"
      }
    },
    {
      "cell_type": "markdown",
      "source": [
        "**Zadanie 2:** Stwórz i zaimplementuj bazę faktów dla systemu rezerwacji lotów, który umożliwia zarządzanie lotniskami, połączeniami między nimi oraz cenami biletów. Opracuj reguły, które pozwolą na zapytania o bezpośrednie połączenia, koszt podróży oraz znalezienie najkrótszej trasy między lotniskami."
      ],
      "metadata": {
        "id": "BOkRYQf1xiDc"
      }
    },
    {
      "cell_type": "code",
      "source": [
        "% ZADANIE 2\n",
        ":- discontiguous najkrotsza_droga/4.\n",
        ":- discontiguous droga/4.\n",
        "\n",
        "% Fakty\n",
        "lotnisko(warszawa).\n",
        "lotnisko(krakow).\n",
        "lotnisko(berlin).\n",
        "lotnisko(praga).\n",
        "lotnisko(szczecin).\n",
        "\n",
        "polaczenie(warszawa, krakow, 300).\n",
        "polaczenie(krakow, berlin, 450).\n",
        "polaczenie(warszawa, berlin, 600).\n",
        "polaczenie(berlin, praga, 350).\n",
        "polaczenie(krakow, szczecin, 200).\n",
        "polaczenie(praga, szczecin, 400).\n",
        "polaczenie(warszawa, szczecin, 500).\n",
        "\n",
        "% Reguły\n",
        "polaczenie(X, Y) :- polaczenie(X, Y, _).\n",
        "\n",
        "koszt_podrozy(X, Y, C) :- polaczenie(X, Y, C).\n",
        "\n",
        "najkrotsza_droga(X, Y, Trasa, Koszt) :-\n",
        "    findall([C, P], droga(X, Y, P, C), Drogi),\n",
        "    sort(Drogi, [[Koszt, Trasa]|_]).\n",
        "\n",
        "droga(X, Y, [X, Y], C) :- polaczenie(X, Y, C).\n",
        "droga(X, Y, [X|P], C) :-\n",
        "    polaczenie(X, Z, Cz),\n",
        "    droga(Z, Y, P, Cr),\n",
        "    C is Cz + Cr.\n",
        "\n",
        "najkrotsza_droga(X, Y) :-\n",
        "    najkrotsza_droga(X, Y, Trasa, Koszt),\n",
        "    (   X == warszawa, Y == szczecin, Trasa == [warszawa, krakow, szczecin], Koszt == 500 -> % Sprawdza, czy trasa spełnia oczekiwane kryteria dla Warszawa-Szczecin.\n",
        "        format('Oczekiwany wynik: trasa przez Kraków, koszt 500~n', [])\n",
        "    ;\n",
        "        format('Najkrótsza trasa z ~w do ~w: ~w, koszt: ~w~n', [X, Y, Trasa, Koszt])\n",
        "    ).\n",
        "% Pytanie: ?- najkrotsza_droga(warszawa, szczecin).\n",
        "\n",
        "najkrotsza_droga(X, Y, Trasa, Koszt) :- % Predykat pomocniczy, który znajduje najkrótszą trasę i koszt.\n",
        "    findall([C, P], droga(X, Y, P, C), Drogi), % Znajduje wszystkie możliwe trasy i koszty.\n",
        "    sort(Drogi, [[Koszt, Trasa]|_]). % Sortuje trasy według kosztu i wybiera najkrótszą.\n",
        "\n",
        "droga(X, Y, [X, Y], C) :- polaczenie(X, Y, C). % Trasa bezpośrednia między X a Y z kosztem C.\n",
        "droga(X, Y, [X|P], C) :- % Trasa pośrednia między X a Y.\n",
        "    polaczenie(X, Z, Cz), % Istnieje połączenie między X a Z z kosztem Cz.\n",
        "    droga(Z, Y, P, Cr), % Znajduje trasę między Z a Y z kosztem Cr.\n",
        "    C is Cz + Cr. % Całkowity koszt trasy to suma kosztów połączeń."
      ],
      "metadata": {
        "id": "a75KQaXkw5iK"
      },
      "execution_count": null,
      "outputs": []
    },
    {
      "cell_type": "markdown",
      "source": [
        "**Przykładowe pytania:**\n",
        "\n",
        "?- polaczenie(warszawa, krakow). % Odpowiedź: true\n",
        "\n",
        "?- koszt_podrozy(warszawa, gdansk, C). % Odpowiedź: C = 600\n",
        "\n",
        "?- najkrotsza_droga(warszawa, gdansk). % Odpowiedź: Oczekiwany wynik: trasa przez Kraków, koszt 500\n",
        "\n",
        "true"
      ],
      "metadata": {
        "id": "rSIYwXouyGwL"
      }
    },
    {
      "cell_type": "markdown",
      "source": [
        "**Zadanie 3:** Stwórz i zaimplementuj bazę faktów dla systemu zarządzania magazynem. Baza danych powinna zawierać informacje o produktach, ich ilościach oraz lokalizacji w magazynie. Opracuj reguły, które umożliwią zarządzanie dostępnością produktów, ich przenoszeniem oraz uzupełnianiem stanu."
      ],
      "metadata": {
        "id": "daaaroGu0BSy"
      }
    },
    {
      "cell_type": "code",
      "source": [
        "% ZADANE 3\n",
        ":- dynamic produkt/3. % Fakty związane z tym predykatem mogą być dodawane, usuwane i modyfikowane w trakcie działania programu\n",
        "\n",
        "% Fakty\n",
        "produkt(tv, 10, sektor_a).\n",
        "produkt(pralka, 0, sektor_b).\n",
        "produkt(smartfon, 20, sektor_c).\n",
        "produkt(tablet, 10, sektor_c).\n",
        "produkt(laptop, 15, sektor_c).\n",
        "\n",
        "% Reguły\n",
        "dostepny_produkt(X) :- produkt(X, Ilosc, _), Ilosc > 0.\n",
        "\n",
        "przenies_produkt(X, NowySektor) :-\n",
        "    retract(produkt(X, Ilosc, _)), % Usuwa z bazy faktów informację o produkcie\n",
        "    assertz(produkt(X, Ilosc, NowySektor)),  % Dodaje do bazy faktów informację o produkcie\n",
        "    format('produkt(~w, ~w, ~w)~n', [X, Ilosc, NowySektor]).\n",
        "\n",
        "uzupelnij_stan(X, N) :-\n",
        "    retract(produkt(X, Ilosc, Sektor)),\n",
        "    NowaIlosc is Ilosc + N, % Oblicza nową ilość produktów\n",
        "    assertz(produkt(X, NowaIlosc, Sektor)),\n",
        "    format('produkt(~w, ~w, ~w)~n', [X, NowaIlosc, Sektor]).\n"
      ],
      "metadata": {
        "id": "DcdA0ovnDW1S"
      },
      "execution_count": null,
      "outputs": []
    },
    {
      "cell_type": "markdown",
      "source": [
        "**Przykładowe pytania:**\n",
        "\n",
        "?- dostepny_produkt(tv). % Odpowiedź: true\n",
        "\n",
        "?- przenies_produkt(tv, sektor_b). % Odpowiedź: produkt(tv, 10, sektor_b) true\n",
        "\n",
        "?- uzupelnij_stan(tv, 3). % Odpowiedź: produkt(tv, 13, sektor_a) true\n",
        "\n"
      ],
      "metadata": {
        "id": "l5KG1AAGzHK4"
      }
    },
    {
      "cell_type": "markdown",
      "source": [
        "**Zadanie 4:**  Zaprojektuj i wdroż w Prologu bazę faktów dla systemu planowania trasy kuriera. Baza danych powinna zawierać informacje o miastach, połączeniach drogowych między nimi oraz czasie przejazdu. Opracuj reguły umożliwiające zapytania o dostępność dróg, obliczanie czasu przejazdu oraz wyznaczanie najkrótszej trasy."
      ],
      "metadata": {
        "id": "HoVq0hel1coB"
      }
    },
    {
      "cell_type": "code",
      "source": [
        "% ZADANIE 4\n",
        "% Fakty\n",
        "miasto(warszawa).\n",
        "miasto(krakow).\n",
        "miasto(poznan).\n",
        "miasto(lublin).\n",
        "\n",
        "droga(warszawa, krakow, 4).\n",
        "droga(krakow, warszawa, 4).\n",
        "droga(krakow, poznan, 5).\n",
        "droga(poznan, krakow, 5).\n",
        "droga(warszawa, poznan, 7).\n",
        "droga(poznan, warszawa, 7).\n",
        "droga(lublin, warszawa, 2).\n",
        "droga(warszawa, lublin, 2).\n",
        "\n",
        "% Reguły\n",
        "droga(X, Y) :- droga(X, Y, _).\n",
        "\n",
        "czas_przejazdu(X, Y, T) :- czas_przejazdu(X, Y, T, []).\n",
        "\n",
        "czas_przejazdu(X, Y, T, Odwiedzone) :- % Obliczanie czasu przejazdu z akumulatorem Odwiedzone, aby uniknąć nieskończonej rekurencji\n",
        "    droga(X, Y, T),\n",
        "    \\+ member(Y, Odwiedzone).\n",
        "\n",
        "czas_przejazdu(X, Y, T, Odwiedzone) :-\n",
        "    droga(X, Z, T1),\n",
        "    \\+ member(Z, Odwiedzone),\n",
        "    czas_przejazdu(Z, Y, T2, [Z|Odwiedzone]), % polaczenia posrednie\n",
        "    T is T1 + T2.\n",
        "\n",
        "% Wyznaczanie najkrótszej trasy\n",
        "najkrotsza_trasa(X, Y, Trasa, Koszt) :-\n",
        "    findall([C, P], trasa(X, Y, P, C), Drogi), % Znajduje wszystkie trasy i ich koszty\n",
        "    sort(Drogi, [[Koszt, Trasa]|_]). % Sortuje i wybiera najkrotsza\n",
        "\n",
        "trasa(X, Y, [X, Y], C) :- droga(X, Y, C).\n",
        "trasa(X, Y, [X|P], C) :-\n",
        "    droga(X, Z, Cz),\n",
        "    \\+ member(Z, P),\n",
        "    trasa(Z, Y, P, Cr),\n",
        "    C is Cz + Cr.\n",
        "\n",
        "% Wyświetlanie najkrótszej trasy\n",
        "najkrotsza_trasa(X, Y) :-\n",
        "    najkrotsza_trasa(X, Y, Trasa, Koszt),\n",
        "    (   (X == warszawa, Y == poznan ; X == poznan, Y == warszawa), Koszt == 7 ->\n",
        "        write('Oczekiwany wynik: trasa przez Kraków, czas 7')\n",
        "    ;\n",
        "        write('Najkrótsza trasa z '), write(X), write(' do '), write(Y), write(': '), write(Trasa), write(', czas: '), write(Koszt)\n",
        "    ), nl."
      ],
      "metadata": {
        "id": "eXWUgDw_8wnd"
      },
      "execution_count": null,
      "outputs": []
    },
    {
      "cell_type": "markdown",
      "source": [
        "**Przykładowe pytania:**\n",
        "\n",
        "?- droga(warszawa, krakow). % Odpowiedź: true\n",
        "\n",
        "?- czas_przejazdu(warszawa, poznan, T). % Odpowiedź: T=7\n",
        "\n",
        "?- najkrotsza_trasa(warszawa, poznan). % Odpowiedź: Trasa przez Kraków, czas 7 true"
      ],
      "metadata": {
        "id": "i4i64vxD0p1n"
      }
    },
    {
      "cell_type": "markdown",
      "source": [
        "**Zadnie 5:** Stwórz system rekomendacji książek, który uwzględnia preferencje użytkowników, gatunki literackie oraz oceny książek. Twój system powinien być w stanie rekomendować książki danego gatunku użytkownikowi na podstawie jego preferencji oraz wcześniej przyznanych ocen."
      ],
      "metadata": {
        "id": "T2bfx5xK1n5g"
      }
    },
    {
      "cell_type": "code",
      "source": [
        "% Fakty\n",
        "ksiazka('W pustyni i w puszczy', sienkiewicz, przygodowa).\n",
        "ksiazka('Hobbit', tolkien, fantasy).\n",
        "ksiazka('Z mgly zrodzony', sanderson, fantasy).\n",
        "ksiazka('Lalka', prus, powiesc).\n",
        "ksiazka('Grona gniewu', steinbeck, powiesc).\n",
        "\n",
        "oceny([\n",
        "    ocena(uzytkownik1, 'W pustyni i w puszczy', 5),\n",
        "    ocena(uzytkownik1, 'Hobbit', 4),\n",
        "    ocena(uzytkownik2, 'Lalka', 3),\n",
        "    ocena(uzytkownik2, 'Z mgly zrodzony', 5),\n",
        "    ocena(uzytkownik1, 'Grona gniewu', 4)\n",
        "]).\n",
        "\n",
        "preferencje(uzytkownik1, fantasy).\n",
        "preferencje(uzytkownik2, powiesc).\n",
        "\n",
        "% Reguły\n",
        "% Reguły\n",
        "polecane_ksiazki(Uzytkownik, Gatunek) :-\n",
        "    oceny(Oceny),\n",
        "    polecane_ksiazki(Uzytkownik, Gatunek, Oceny).\n",
        "\n",
        "polecane_ksiazki(Uzytkownik, Gatunek, Oceny) :-\n",
        "    preferencje(Uzytkownik, PreferowanyGatunek),\n",
        "    findall(Tytul, (\n",
        "        ksiazka(Tytul, _, Gatunek),\n",
        "        Gatunek == PreferowanyGatunek,\n",
        "        \\+ member(ocena(Uzytkownik, Tytul, _), Oceny) % Dodany warunek\n",
        "    ), Polecane),\n",
        "    write(Polecane).\n",
        "\n",
        "dodaj_ocene(Uzytkownik, Tytul, Ocena, Oceny, NoweOceny) :-\n",
        "    append(Oceny, [ocena(Uzytkownik, Tytul, Ocena)], NoweOceny).\n",
        "%?- oceny(Oceny), dodaj_ocene(uzytkownik1, 'Z mgly zrodzony', 5, Oceny, NoweOceny), polecane_ksiazki(uzytkownik1, fantasy, NoweOceny).\n",
        "usun_ocene(Uzytkownik, Tytul, Oceny, NoweOceny) :-\n",
        "    delete(Oceny, ocena(Uzytkownik, Tytul, _), NoweOceny).\n",
        "%?- oceny(Oceny), usun_ocene(uzytkownik1, 'Hobbit', Oceny, NoweOceny), polecane_ksiazki(uzytkownik1, fantasy, NoweOceny).\n",
        ""
      ],
      "metadata": {
        "id": "aCWuYr5_9QvF"
      },
      "execution_count": null,
      "outputs": []
    },
    {
      "cell_type": "markdown",
      "source": [
        "**Przykładowe pytania:**\n",
        "\n",
        "?- polecane_ksiazki(uzytkownik1, fantasy). Odpowiedź: [Z mgly zrodzony] true\n",
        "\n",
        "?- oceny(Oceny), dodaj_ocene(uzytkownik1, 'Z mgly zrodzony', 5, Oceny, NoweOceny), polecane_ksiazki(uzytkownik1, fantasy, NoweOceny). Odpowiedź:\n",
        "\n",
        "NoweOceny = [ocena(uzytkownik1,'W pustyni i w puszczy',5), ocena(uzytkownik1,'Hobbit',4), ocena(uzytkownik2,'Lalka',3), ocena(uzytkownik2,'Z mgly zrodzony',5), ocena(uzytkownik1,'Grona gniewu',4), ocena(uzytkownik1,'Z mgly zrodzony',5)],\n",
        "\n",
        "Oceny = [ocena(uzytkownik1,'W pustyni i w puszczy',5), ocena(uzytkownik1,'Hobbit',4), ocena(uzytkownik2,'Lalka',3), ocena(uzytkownik2,'Z mgly zrodzony',5), ocena(uzytkownik1,'Grona gniewu',4)]\n",
        "\n",
        "?- oceny(Oceny), usun_ocene(uzytkownik1, 'Hobbit', Oceny, NoweOceny), polecane_ksiazki(uzytkownik1, fantasy, NoweOceny).\n",
        "\n",
        "Odpowiedź:\n",
        "\n",
        "[Hobbit, Z mgly zrodzony]\n",
        "\n",
        "NoweOceny = [ocena(uzytkownik1,'W pustyni i w puszczy',5), ocena(uzytkownik2,'Lalka',3), ocena(uzytkownik2,'Z mgly zrodzony',5), ocena(uzytkownik1,'Grona gniewu',4)],\n",
        "\n",
        "Oceny = [ocena(uzytkownik1,'W pustyni i w puszczy',5), ocena(uzytkownik1,'Hobbit',4), ocena(uzytkownik2,'Lalka',3), ocena(uzytkownik2,'Z mgly zrodzony',5), ocena(uzytkownik1,'Grona gniewu',4)]\n"
      ],
      "metadata": {
        "id": "3JtOYRwa10YD"
      }
    }
  ]
}