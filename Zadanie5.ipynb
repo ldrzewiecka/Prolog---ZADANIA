{
  "nbformat": 4,
  "nbformat_minor": 0,
  "metadata": {
    "colab": {
      "provenance": []
    },
    "kernelspec": {
      "name": "python3",
      "display_name": "Python 3"
    },
    "language_info": {
      "name": "python"
    }
  },
  "cells": [
    {
      "cell_type": "code",
      "source": [
        "% Fakty\n",
        "ksiazka('W pustyni i w puszczy', sienkiewicz, przygodowa).\n",
        "ksiazka('Hobbit', tolkien, fantasy).\n",
        "ksiazka('Z mgly zrodzony', sanderson, fantasy).\n",
        "ksiazka('Lalka', prus, powiesc).\n",
        "ksiazka('Grona gniewu', steinbeck, powiesc).\n",
        "\n",
        "oceny([\n",
        "    ocena(uzytkownik1, 'W pustyni i w puszczy', 5),\n",
        "    ocena(uzytkownik1, 'Hobbit', 4),\n",
        "    ocena(uzytkownik2, 'Lalka', 3),\n",
        "    ocena(uzytkownik2, 'Z mgly zrodzony', 5),\n",
        "    ocena(uzytkownik1, 'Grona gniewu', 4)\n",
        "]).\n",
        "\n",
        "preferencje(uzytkownik1, fantasy).\n",
        "preferencje(uzytkownik2, powiesc).\n",
        "\n",
        "% Reguły\n",
        "polecane_ksiazki(Uzytkownik, Gatunek, Oceny) :-\n",
        "    preferencje(Uzytkownik, PreferowanyGatunek), % Pobranie preferowanego gatunku\n",
        "    findall(Tytul, (\n",
        "        ksiazka(Tytul, _, Gatunek),  % Wybór książek z podanego gatunku\n",
        "        Gatunek == PreferowanyGatunek, % Sprawdzenie, czy gatunek jest preferowany\n",
        "        \\+ member(ocena(Uzytkownik, Tytul, _), Oceny)  % Sprawdzenie, czy użytkownik nie ocenił jeszcze książki\n",
        "    ), Polecane),\n",
        "    write(Polecane).\n",
        "\n",
        "dodaj_ocene(Uzytkownik, Tytul, Ocena, Oceny, NoweOceny) :-\n",
        "    append(Oceny, [ocena(Uzytkownik, Tytul, Ocena)], NoweOceny).\n",
        "%?- oceny(Oceny), dodaj_ocene(uzytkownik1, 'Z mgly zrodzony', 5, Oceny, NoweOceny), polecane_ksiazki(uzytkownik1, fantasy, NoweOceny).\n",
        "usun_ocene(Uzytkownik, Tytul, Oceny, NoweOceny) :-\n",
        "    delete(Oceny, ocena(Uzytkownik, Tytul, _), NoweOceny).\n",
        "%?- oceny(Oceny), usun_ocene(uzytkownik1, 'Hobbit', Oceny, NoweOceny), polecane_ksiazki(uzytkownik1, fantasy, NoweOceny)."
      ],
      "metadata": {
        "id": "DcdA0ovnDW1S"
      },
      "execution_count": null,
      "outputs": []
    }
  ]
}