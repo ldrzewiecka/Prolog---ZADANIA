{
  "nbformat": 4,
  "nbformat_minor": 0,
  "metadata": {
    "colab": {
      "provenance": []
    },
    "kernelspec": {
      "name": "python3",
      "display_name": "Python 3"
    },
    "language_info": {
      "name": "python"
    }
  },
  "cells": [
    {
      "cell_type": "code",
      "source": [
        "\n",
        "% Fakty\n",
        "miasto(warszawa).\n",
        "miasto(krakow).\n",
        "miasto(poznan).\n",
        "miasto(lublin).\n",
        "\n",
        "droga(warszawa, krakow, 4).\n",
        "droga(krakow, warszawa, 4).\n",
        "droga(krakow, poznan, 5).\n",
        "droga(poznan, krakow, 5).\n",
        "droga(warszawa, poznan, 7).\n",
        "droga(poznan, warszawa, 7).\n",
        "droga(lublin, warszawa, 2).\n",
        "droga(warszawa, lublin, 2).\n",
        "\n",
        "% Reguły\n",
        "droga(X, Y) :- droga(X, Y, _).\n",
        "\n",
        "czas_przejazdu(X, Y, T) :- czas_przejazdu(X, Y, T, []).\n",
        "\n",
        "czas_przejazdu(X, Y, T, Odwiedzone) :- % Obliczanie czasu przejazdu z akumulatorem Odwiedzone, aby uniknąć nieskończonej rekurencji\n",
        "    droga(X, Y, T),\n",
        "    \\+ member(Y, Odwiedzone).\n",
        "\n",
        "czas_przejazdu(X, Y, T, Odwiedzone) :-\n",
        "    droga(X, Z, T1),\n",
        "    \\+ member(Z, Odwiedzone),\n",
        "    czas_przejazdu(Z, Y, T2, [Z|Odwiedzone]), % polaczenia posrednie\n",
        "    T is T1 + T2.\n",
        "\n",
        "% Wyznaczanie najkrótszej trasy\n",
        "najkrotsza_trasa(X, Y, Trasa, Koszt) :-\n",
        "    findall([C, P], trasa(X, Y, P, C), Drogi), % Znajduje wszystkie trasy i ich koszty\n",
        "    sort(Drogi, [[Koszt, Trasa]|_]). % Sortuje i wybiera najkrotsza\n",
        "\n",
        "trasa(X, Y, [X, Y], C) :- droga(X, Y, C).\n",
        "trasa(X, Y, [X|P], C) :-\n",
        "    droga(X, Z, Cz),\n",
        "    \\+ member(Z, P),\n",
        "    trasa(Z, Y, P, Cr),\n",
        "    C is Cz + Cr.\n",
        "\n",
        "% Wyświetlanie najkrótszej trasy\n",
        "najkrotsza_trasa(X, Y) :-\n",
        "    najkrotsza_trasa(X, Y, Trasa, Koszt),\n",
        "    (   (X == warszawa, Y == poznan ; X == poznan, Y == warszawa), Koszt == 7 ->\n",
        "        write('Oczekiwany wynik: trasa przez Kraków, czas 7')\n",
        "    ;\n",
        "        write('Najkrótsza trasa z '), write(X), write(' do '), write(Y), write(': '), write(Trasa), write(', czas: '), write(Koszt)\n",
        "    ), nl."
      ],
      "metadata": {
        "id": "DcdA0ovnDW1S"
      },
      "execution_count": null,
      "outputs": []
    }
  ]
}