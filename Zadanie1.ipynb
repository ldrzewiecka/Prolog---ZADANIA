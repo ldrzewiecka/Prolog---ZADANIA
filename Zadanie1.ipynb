{
  "nbformat": 4,
  "nbformat_minor": 0,
  "metadata": {
    "colab": {
      "provenance": []
    },
    "kernelspec": {
      "name": "python3",
      "display_name": "Python 3"
    },
    "language_info": {
      "name": "python"
    }
  },
  "cells": [
    {
      "cell_type": "code",
      "execution_count": 8,
      "metadata": {
        "colab": {
          "base_uri": "https://localhost:8080/",
          "height": 106
        },
        "id": "9fYNQn5JZmx5",
        "outputId": "5d77eac2-9a85-4a72-b3c0-010cba71f6bd"
      },
      "outputs": [
        {
          "output_type": "error",
          "ename": "SyntaxError",
          "evalue": "invalid syntax (<ipython-input-8-ce890bd4c217>, line 2)",
          "traceback": [
            "\u001b[0;36m  File \u001b[0;32m\"<ipython-input-8-ce890bd4c217>\"\u001b[0;36m, line \u001b[0;32m2\u001b[0m\n\u001b[0;31m    ojciec(zygmunt, blanka).\u001b[0m\n\u001b[0m                            ^\u001b[0m\n\u001b[0;31mSyntaxError\u001b[0m\u001b[0;31m:\u001b[0m invalid syntax\n"
          ]
        }
      ],
      "source": [
        "% Fakty są rozproszone w pliku, ale dzięki dyrektywie :- discontiguous kompilator nie zgłasza błędu\n",
        ":- discontiguous ojciec/2.\n",
        ":- discontiguous matka/2.\n",
        ":- discontiguous malzenstwo/2.\n",
        ":- discontiguous mezczyzna/1.\n",
        ":- discontiguous kobieta/1.\n",
        "\n",
        "% Fakty\n",
        "ojciec(zygmunt, blanka).\n",
        "ojciec(zygmunt, borys).\n",
        "matka(jagoda, blanka).\n",
        "matka(jagoda, borys).\n",
        "malzenstwo(zygmunt, jagoda).\n",
        "mezczyzna(zygmunt).\n",
        "mezczyzna(borys).\n",
        "kobieta(jagoda).\n",
        "kobieta(blanka). % rodzina 1\n",
        "\n",
        "ojciec(tadeusz, tymon).\n",
        "matka(helena, tymon).\n",
        "malzenstwo(tadeusz, helena).\n",
        "mezczyzna(tadeusz).\n",
        "mezczyzna(tymon).\n",
        "kobieta(helena). % rodzina 2\n",
        "\n",
        "ojciec(zbigniew, tadeusz).\n",
        "ojciec(zbigniew, jagoda).\n",
        "matka(janina, tadeusz).\n",
        "matka(janina, jagoda).\n",
        "malzenstwo(zbigniew, janina).\n",
        "mezczyzna(zbigniew).\n",
        "kobieta(janina). % dziadkowie\n",
        "\n",
        "% Reguły\n",
        "rodzic(X, Y) :- ojciec(X, Y).\n",
        "rodzic(X, Y) :- matka(X, Y).\n",
        "\n",
        "malzenstwo(X, Y) :-\n",
        "    malzenstwo(Y, X).\n",
        "\n",
        "brat(X, Y) :-\n",
        "  rodzic(Z, X),\n",
        "  rodzic(Z, Y),\n",
        "  X \\= Y,\n",
        "  mezczyzna(X).\n",
        "\n",
        "siostra(X, Y) :-\n",
        "  rodzic(Z, X),\n",
        "  rodzic(Z, Y),\n",
        "  X \\= Y,\n",
        "  kobieta(X).\n",
        "\n",
        "przodek(X, Y) :- rodzic(X, Y).\n",
        "przodek(X, Y) :-\n",
        "  rodzic(X, Z),\n",
        "  rodzic(Z, Y).\n",
        "\n",
        "kuzyn(X, Y) :-\n",
        "  rodzic(Z, X),\n",
        "  rodzic(V, Y),\n",
        "  rodzenstwo(Z, V).\n",
        "\n"
      ]
    }
  ]
}