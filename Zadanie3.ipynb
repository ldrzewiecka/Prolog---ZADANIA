{
  "nbformat": 4,
  "nbformat_minor": 0,
  "metadata": {
    "colab": {
      "provenance": []
    },
    "kernelspec": {
      "name": "python3",
      "display_name": "Python 3"
    },
    "language_info": {
      "name": "python"
    }
  },
  "cells": [
    {
      "cell_type": "code",
      "source": [
        "% ZADANE 3\n",
        ":- dynamic produkt/3. % Fakty związane z tym predykatem mogą być dodawane, usuwane i modyfikowane w trakcie działania programu\n",
        "\n",
        "% Fakty\n",
        "produkt(tv, 10, sektor_a).\n",
        "produkt(pralka, 0, sektor_b).\n",
        "produkt(smartfon, 20, sektor_c).\n",
        "produkt(tablet, 10, sektor_c).\n",
        "produkt(laptop, 15, sektor_c).\n",
        "\n",
        "% Reguły\n",
        "dostepny_produkt(X) :- produkt(X, Ilosc, _), Ilosc > 0.\n",
        "\n",
        "przenies_produkt(X, NowySektor) :-\n",
        "    retract(produkt(X, Ilosc, _)), % Usuwa z bazy faktów informację o produkcie\n",
        "    assertz(produkt(X, Ilosc, NowySektor)),  % Dodaje do bazy faktów informację o produkcie\n",
        "    format('produkt(~w, ~w, ~w)~n', [X, Ilosc, NowySektor]).\n",
        "\n",
        "uzupelnij_stan(X, N) :-\n",
        "    retract(produkt(X, Ilosc, Sektor)),\n",
        "    NowaIlosc is Ilosc + N, % Oblicza nową ilość produktów\n",
        "    assertz(produkt(X, NowaIlosc, Sektor)),\n",
        "    format('produkt(~w, ~w, ~w)~n', [X, NowaIlosc, Sektor]).\n"
      ],
      "metadata": {
        "id": "DcdA0ovnDW1S"
      },
      "execution_count": null,
      "outputs": []
    }
  ]
}